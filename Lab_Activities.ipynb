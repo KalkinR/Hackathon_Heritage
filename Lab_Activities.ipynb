{
  "nbformat": 4,
  "nbformat_minor": 0,
  "metadata": {
    "colab": {
      "name": "Lab Activities",
      "provenance": [],
      "collapsed_sections": [],
      "authorship_tag": "ABX9TyN/cxeypHF+EHum44/i0Tta",
      "include_colab_link": true
    },
    "kernelspec": {
      "name": "python3",
      "display_name": "Python 3"
    },
    "language_info": {
      "name": "python"
    }
  },
  "cells": [
    {
      "cell_type": "markdown",
      "metadata": {
        "id": "view-in-github",
        "colab_type": "text"
      },
      "source": [
        "<a href=\"https://colab.research.google.com/github/KalkinR/Hackathon_Heritage/blob/master/Lab_Activities.ipynb\" target=\"_parent\"><img src=\"https://colab.research.google.com/assets/colab-badge.svg\" alt=\"Open In Colab\"/></a>"
      ]
    },
    {
      "cell_type": "code",
      "execution_count": null,
      "metadata": {
        "id": "ONEVD14IZRyC"
      },
      "outputs": [],
      "source": [
        "Practicals"
      ]
    },
    {
      "cell_type": "code",
      "source": [
        "a = int(input(\"What is value A?\"))\n",
        "b = int(input(\"Whats is value b?\"))\n",
        "\n",
        "a = a+b\n",
        "b = a - b\n",
        "a = a - b\n",
        "\n",
        "print(\"The value of a is\", a)\n",
        "print(\"The value of b is\", b)"
      ],
      "metadata": {
        "colab": {
          "base_uri": "https://localhost:8080/"
        },
        "id": "dJ7IhGtkbH0M",
        "outputId": "a5550f6e-1c7c-49d3-fda1-3279cec8fc3c"
      },
      "execution_count": null,
      "outputs": [
        {
          "output_type": "stream",
          "name": "stdout",
          "text": [
            "What is value A?8767\n",
            "Whats is value b?876\n",
            "The value of a is 876\n",
            "The value of b is 8767\n"
          ]
        }
      ]
    },
    {
      "cell_type": "code",
      "source": [
        "total = 0\n",
        "for num in range(4):\n",
        "  total += int(input(\"What is the \" + str(num + 1) +\"th \" + \"sale?\"))\n",
        "print(\"Your total is \", total)\n",
        "if total >= 250000:\n",
        "  sales = total*0.07\n",
        "elif total > 100000:\n",
        "  sales = total*0.05\n",
        "elif total > 50000:\n",
        "  sales = total*0.02\n",
        "else:\n",
        "  sales = 0\n",
        "print(\"The commission charge is \" + str(sales))"
      ],
      "metadata": {
        "colab": {
          "base_uri": "https://localhost:8080/"
        },
        "id": "SygnTIl_cZRU",
        "outputId": "bee68b9e-1305-4922-bc4c-362a2f0ec28c"
      },
      "execution_count": null,
      "outputs": [
        {
          "name": "stdout",
          "output_type": "stream",
          "text": [
            "What is the 1th sale?2300\n",
            "What is the 2th sale?2300\n",
            "What is the 3th sale?2300\n"
          ]
        }
      ]
    },
    {
      "cell_type": "code",
      "source": [
        "\"\"\"Simulate a mobile billing application. accept the consumer's name and mobile number. Also accept the number of local calls, units of data usage(accept in bytes, then convert to gb later), number of sms, number of std calls. Calculate bill amount, on the basis of following criteria:-\n",
        "- local calls --> 1.5 rs/call\n",
        "if no of local calls > 500, then excess calls will be charged at 2 rs/call \n",
        "if no. of sms are <50, then no charge. all sms above 50\n",
        "- SMS --> 0.5 rs/msg\n",
        "\n",
        "all std calls --> 3.5 rs\n",
        "\n",
        "data - 30 rs/GB\n",
        "\n",
        "calculate bill amount, give a surcharge at the rate of 5% on bill amount. Accept mode of payment from the user. If it is cash, then accept cash given by the customer, and calculate the amount to give back to the customer. If payment option is paytm, calculate 2% cashback on bill amount payable. If the payment option is a visa card give [your choice]% cashback.\n",
        "\"\"\"\n",
        "\n",
        "name = input(\"What is your name?\")\n",
        "number = str(input(\"What is your phone number?\"))\n",
        "lcalls = int(input(\"What is the number of local calls?\"))\n",
        "data = (int(input(\"What is the data used, in bytes?\")))/1073741824 \n",
        "sms = int(input(\"How many sms' did you send?\"))\n",
        "std = int(input(\"Number of std calls?\"))\n",
        "\n",
        "if lcalls > 500:\n",
        "  lcalls -= 500\n",
        "  bill = lcalls*2 + (500*1.5)\n",
        "else:\n",
        "  bill = lcalls*1.5\n",
        "\n",
        "if sms<=50:\n",
        "  bill_2 = 0\n",
        "else:\n",
        "  sms -= 50\n",
        "  bill_2 = sms*0.5\n",
        "bill_3 = std*3.5\n",
        "datacost = data*30\n",
        "total = (bill + bill_2 + bill_3 + datacost)*1.05\n",
        "total_1 = (bill + bill_2 + bill_3 + datacost)\n",
        "\n",
        "print(bill, bill_2, bill_3, datacost, total_1)\n",
        "print(\"The total charge for \",name,\" who uses number \", number,\"is \",total)\n",
        "pay = input(\"How would you like to pay? Cash or Paytm or Visa card?\")\n",
        "if pay == \"Cash\":\n",
        "  paid = int(input(\"Kindly enter the pay amount\"))\n",
        "  if paid == total:\n",
        "    print(\"Thank you for your payment!\")\n",
        "  else:\n",
        "    print(\"The return amount is \", (paid - total))\n",
        "elif pay == \"Paytm\":\n",
        "  print(\"Thank you for choosing Paytm, you will now receive a 2% cashback. Your total charge is\", (total*0.98))\n",
        "  paid = int(input(\"Kindly pay the required amount\"))\n",
        "elif pay == \"Visa card\":\n",
        "  print(\"Thank you for choosing Visa. You will now receive a 50% cashback. Your total charge is\", (total*0.5))\n",
        "  paid = int(input(\"Kindly pay the required amount\"))\n",
        "else:\n",
        "  print(\"Please try again; You inputted an invalid paying format\")\n",
        "print(\"Thank you for your purchase!\")"
      ],
      "metadata": {
        "colab": {
          "base_uri": "https://localhost:8080/",
          "height": 536
        },
        "id": "ODqk9jKjXHMB",
        "outputId": "972e0602-29f2-431a-a693-9724c050db86"
      },
      "execution_count": null,
      "outputs": [
        {
          "output_type": "error",
          "ename": "KeyboardInterrupt",
          "evalue": "ignored",
          "traceback": [
            "\u001b[0;31m---------------------------------------------------------------------------\u001b[0m",
            "\u001b[0;31mKeyboardInterrupt\u001b[0m                         Traceback (most recent call last)",
            "\u001b[0;32m/usr/local/lib/python3.7/dist-packages/ipykernel/kernelbase.py\u001b[0m in \u001b[0;36m_input_request\u001b[0;34m(self, prompt, ident, parent, password)\u001b[0m\n\u001b[1;32m    728\u001b[0m             \u001b[0;32mtry\u001b[0m\u001b[0;34m:\u001b[0m\u001b[0;34m\u001b[0m\u001b[0;34m\u001b[0m\u001b[0m\n\u001b[0;32m--> 729\u001b[0;31m                 \u001b[0mident\u001b[0m\u001b[0;34m,\u001b[0m \u001b[0mreply\u001b[0m \u001b[0;34m=\u001b[0m \u001b[0mself\u001b[0m\u001b[0;34m.\u001b[0m\u001b[0msession\u001b[0m\u001b[0;34m.\u001b[0m\u001b[0mrecv\u001b[0m\u001b[0;34m(\u001b[0m\u001b[0mself\u001b[0m\u001b[0;34m.\u001b[0m\u001b[0mstdin_socket\u001b[0m\u001b[0;34m,\u001b[0m \u001b[0;36m0\u001b[0m\u001b[0;34m)\u001b[0m\u001b[0;34m\u001b[0m\u001b[0;34m\u001b[0m\u001b[0m\n\u001b[0m\u001b[1;32m    730\u001b[0m             \u001b[0;32mexcept\u001b[0m \u001b[0mException\u001b[0m\u001b[0;34m:\u001b[0m\u001b[0;34m\u001b[0m\u001b[0;34m\u001b[0m\u001b[0m\n",
            "\u001b[0;32m/usr/local/lib/python3.7/dist-packages/jupyter_client/session.py\u001b[0m in \u001b[0;36mrecv\u001b[0;34m(self, socket, mode, content, copy)\u001b[0m\n\u001b[1;32m    802\u001b[0m         \u001b[0;32mtry\u001b[0m\u001b[0;34m:\u001b[0m\u001b[0;34m\u001b[0m\u001b[0;34m\u001b[0m\u001b[0m\n\u001b[0;32m--> 803\u001b[0;31m             \u001b[0mmsg_list\u001b[0m \u001b[0;34m=\u001b[0m \u001b[0msocket\u001b[0m\u001b[0;34m.\u001b[0m\u001b[0mrecv_multipart\u001b[0m\u001b[0;34m(\u001b[0m\u001b[0mmode\u001b[0m\u001b[0;34m,\u001b[0m \u001b[0mcopy\u001b[0m\u001b[0;34m=\u001b[0m\u001b[0mcopy\u001b[0m\u001b[0;34m)\u001b[0m\u001b[0;34m\u001b[0m\u001b[0;34m\u001b[0m\u001b[0m\n\u001b[0m\u001b[1;32m    804\u001b[0m         \u001b[0;32mexcept\u001b[0m \u001b[0mzmq\u001b[0m\u001b[0;34m.\u001b[0m\u001b[0mZMQError\u001b[0m \u001b[0;32mas\u001b[0m \u001b[0me\u001b[0m\u001b[0;34m:\u001b[0m\u001b[0;34m\u001b[0m\u001b[0;34m\u001b[0m\u001b[0m\n",
            "\u001b[0;32m/usr/local/lib/python3.7/dist-packages/zmq/sugar/socket.py\u001b[0m in \u001b[0;36mrecv_multipart\u001b[0;34m(self, flags, copy, track)\u001b[0m\n\u001b[1;32m    726\u001b[0m         \"\"\"\n\u001b[0;32m--> 727\u001b[0;31m         \u001b[0mparts\u001b[0m \u001b[0;34m=\u001b[0m \u001b[0;34m[\u001b[0m\u001b[0mself\u001b[0m\u001b[0;34m.\u001b[0m\u001b[0mrecv\u001b[0m\u001b[0;34m(\u001b[0m\u001b[0mflags\u001b[0m\u001b[0;34m,\u001b[0m \u001b[0mcopy\u001b[0m\u001b[0;34m=\u001b[0m\u001b[0mcopy\u001b[0m\u001b[0;34m,\u001b[0m \u001b[0mtrack\u001b[0m\u001b[0;34m=\u001b[0m\u001b[0mtrack\u001b[0m\u001b[0;34m)\u001b[0m\u001b[0;34m]\u001b[0m\u001b[0;34m\u001b[0m\u001b[0;34m\u001b[0m\u001b[0m\n\u001b[0m\u001b[1;32m    728\u001b[0m         \u001b[0;31m# have first part already, only loop while more to receive\u001b[0m\u001b[0;34m\u001b[0m\u001b[0;34m\u001b[0m\u001b[0;34m\u001b[0m\u001b[0m\n",
            "\u001b[0;32mzmq/backend/cython/socket.pyx\u001b[0m in \u001b[0;36mzmq.backend.cython.socket.Socket.recv\u001b[0;34m()\u001b[0m\n",
            "\u001b[0;32mzmq/backend/cython/socket.pyx\u001b[0m in \u001b[0;36mzmq.backend.cython.socket.Socket.recv\u001b[0;34m()\u001b[0m\n",
            "\u001b[0;32mzmq/backend/cython/socket.pyx\u001b[0m in \u001b[0;36mzmq.backend.cython.socket._recv_copy\u001b[0;34m()\u001b[0m\n",
            "\u001b[0;32m/usr/local/lib/python3.7/dist-packages/zmq/backend/cython/checkrc.pxd\u001b[0m in \u001b[0;36mzmq.backend.cython.checkrc._check_rc\u001b[0;34m()\u001b[0m\n",
            "\u001b[0;31mKeyboardInterrupt\u001b[0m: ",
            "\nDuring handling of the above exception, another exception occurred:\n",
            "\u001b[0;31mKeyboardInterrupt\u001b[0m                         Traceback (most recent call last)",
            "\u001b[0;32m<ipython-input-8-889252fcfd4c>\u001b[0m in \u001b[0;36m<module>\u001b[0;34m()\u001b[0m\n\u001b[1;32m     12\u001b[0m \"\"\"\n\u001b[1;32m     13\u001b[0m \u001b[0;34m\u001b[0m\u001b[0m\n\u001b[0;32m---> 14\u001b[0;31m \u001b[0mname\u001b[0m \u001b[0;34m=\u001b[0m \u001b[0minput\u001b[0m\u001b[0;34m(\u001b[0m\u001b[0;34m\"What is your name?\"\u001b[0m\u001b[0;34m)\u001b[0m\u001b[0;34m\u001b[0m\u001b[0;34m\u001b[0m\u001b[0m\n\u001b[0m\u001b[1;32m     15\u001b[0m \u001b[0mnumber\u001b[0m \u001b[0;34m=\u001b[0m \u001b[0mstr\u001b[0m\u001b[0;34m(\u001b[0m\u001b[0minput\u001b[0m\u001b[0;34m(\u001b[0m\u001b[0;34m\"What is your phone number?\"\u001b[0m\u001b[0;34m)\u001b[0m\u001b[0;34m)\u001b[0m\u001b[0;34m\u001b[0m\u001b[0;34m\u001b[0m\u001b[0m\n\u001b[1;32m     16\u001b[0m \u001b[0mlcalls\u001b[0m \u001b[0;34m=\u001b[0m \u001b[0mint\u001b[0m\u001b[0;34m(\u001b[0m\u001b[0minput\u001b[0m\u001b[0;34m(\u001b[0m\u001b[0;34m\"What is the number of local calls?\"\u001b[0m\u001b[0;34m)\u001b[0m\u001b[0;34m)\u001b[0m\u001b[0;34m\u001b[0m\u001b[0;34m\u001b[0m\u001b[0m\n",
            "\u001b[0;32m/usr/local/lib/python3.7/dist-packages/ipykernel/kernelbase.py\u001b[0m in \u001b[0;36mraw_input\u001b[0;34m(self, prompt)\u001b[0m\n\u001b[1;32m    702\u001b[0m             \u001b[0mself\u001b[0m\u001b[0;34m.\u001b[0m\u001b[0m_parent_ident\u001b[0m\u001b[0;34m,\u001b[0m\u001b[0;34m\u001b[0m\u001b[0;34m\u001b[0m\u001b[0m\n\u001b[1;32m    703\u001b[0m             \u001b[0mself\u001b[0m\u001b[0;34m.\u001b[0m\u001b[0m_parent_header\u001b[0m\u001b[0;34m,\u001b[0m\u001b[0;34m\u001b[0m\u001b[0;34m\u001b[0m\u001b[0m\n\u001b[0;32m--> 704\u001b[0;31m             \u001b[0mpassword\u001b[0m\u001b[0;34m=\u001b[0m\u001b[0;32mFalse\u001b[0m\u001b[0;34m,\u001b[0m\u001b[0;34m\u001b[0m\u001b[0;34m\u001b[0m\u001b[0m\n\u001b[0m\u001b[1;32m    705\u001b[0m         )\n\u001b[1;32m    706\u001b[0m \u001b[0;34m\u001b[0m\u001b[0m\n",
            "\u001b[0;32m/usr/local/lib/python3.7/dist-packages/ipykernel/kernelbase.py\u001b[0m in \u001b[0;36m_input_request\u001b[0;34m(self, prompt, ident, parent, password)\u001b[0m\n\u001b[1;32m    732\u001b[0m             \u001b[0;32mexcept\u001b[0m \u001b[0mKeyboardInterrupt\u001b[0m\u001b[0;34m:\u001b[0m\u001b[0;34m\u001b[0m\u001b[0;34m\u001b[0m\u001b[0m\n\u001b[1;32m    733\u001b[0m                 \u001b[0;31m# re-raise KeyboardInterrupt, to truncate traceback\u001b[0m\u001b[0;34m\u001b[0m\u001b[0;34m\u001b[0m\u001b[0;34m\u001b[0m\u001b[0m\n\u001b[0;32m--> 734\u001b[0;31m                 \u001b[0;32mraise\u001b[0m \u001b[0mKeyboardInterrupt\u001b[0m\u001b[0;34m\u001b[0m\u001b[0;34m\u001b[0m\u001b[0m\n\u001b[0m\u001b[1;32m    735\u001b[0m             \u001b[0;32melse\u001b[0m\u001b[0;34m:\u001b[0m\u001b[0;34m\u001b[0m\u001b[0;34m\u001b[0m\u001b[0m\n\u001b[1;32m    736\u001b[0m                 \u001b[0;32mbreak\u001b[0m\u001b[0;34m\u001b[0m\u001b[0;34m\u001b[0m\u001b[0m\n",
            "\u001b[0;31mKeyboardInterrupt\u001b[0m: "
          ]
        }
      ]
    },
    {
      "cell_type": "code",
      "source": [
        "#average of odd and even numbers\n",
        "count_even = 0\n",
        "count_odd = 0\n",
        "even = 0\n",
        "odd = 0\n",
        "for x in range(10):\n",
        "    num = int(input(\"What is the number? \"))\n",
        "    if num%2 == 1:\n",
        "        count_odd+=1\n",
        "        odd+= num\n",
        "    elif num%2==0:\n",
        "        count_even+=1\n",
        "        even+=num\n",
        "if count_even>0:\n",
        "    print(\"There are \", count_even, \"even numbers and their average is\", (even/count_even))\n",
        "if count_odd>0:\n",
        "    print(\"There are \", count_odd, \"odd numbers and their average is\", (odd/count_odd))"
      ],
      "metadata": {
        "id": "8-kguNJ1lyE5"
      },
      "execution_count": null,
      "outputs": []
    },
    {
      "cell_type": "code",
      "source": [
        "#PRACTICAL 2 \n",
        "\n",
        "#1) Accept 20 numbers and find the average of the even and odd numbers entered \n",
        "\n",
        "#2) Accept 10 numbers and find out the cube of the numbers entered \n",
        "\n",
        "#3) Accept number of elements from user and display series with the following logic :     x/2 + x/4 + x//6 ........ y terms \n",
        "#ex; 3/2 + 3/4 + 4/6 + 3/8 + 3/10 \n",
        "\n",
        "#4) Accept a number from user and print multiplication table of this number upto 10 times \n",
        "\n",
        "#5) Accept a number and find the factorial of this number \n",
        "\n",
        "#Question number 2; appending a list with all the values, printing the cube of each value\n",
        "\n",
        "num = []\n",
        "for x in range(10):\n",
        "  num.append(int(input(\"What is the number?\")))\n",
        "print(num())"
      ],
      "metadata": {
        "colab": {
          "base_uri": "https://localhost:8080/",
          "height": 373
        },
        "id": "aLlugSCjJFbN",
        "outputId": "35ec978d-b2f5-41e2-8af5-81eab48c1911"
      },
      "execution_count": null,
      "outputs": [
        {
          "name": "stdout",
          "output_type": "stream",
          "text": [
            "What is the number?2\n",
            "What is the number?3\n",
            "What is the number?4\n",
            "What is the number?5\n",
            "What is the number?6\n",
            "What is the number?8\n",
            "What is the number?88\n",
            "What is the number?9\n",
            "What is the number?9\n",
            "What is the number?9\n"
          ]
        },
        {
          "output_type": "error",
          "ename": "TypeError",
          "evalue": "ignored",
          "traceback": [
            "\u001b[0;31m---------------------------------------------------------------------------\u001b[0m",
            "\u001b[0;31mTypeError\u001b[0m                                 Traceback (most recent call last)",
            "\u001b[0;32m<ipython-input-7-f78f883e3379>\u001b[0m in \u001b[0;36m<module>\u001b[0;34m()\u001b[0m\n\u001b[1;32m     17\u001b[0m \u001b[0;32mfor\u001b[0m \u001b[0mx\u001b[0m \u001b[0;32min\u001b[0m \u001b[0mrange\u001b[0m\u001b[0;34m(\u001b[0m\u001b[0;36m10\u001b[0m\u001b[0;34m)\u001b[0m\u001b[0;34m:\u001b[0m\u001b[0;34m\u001b[0m\u001b[0;34m\u001b[0m\u001b[0m\n\u001b[1;32m     18\u001b[0m   \u001b[0mnum\u001b[0m\u001b[0;34m.\u001b[0m\u001b[0mappend\u001b[0m\u001b[0;34m(\u001b[0m\u001b[0mint\u001b[0m\u001b[0;34m(\u001b[0m\u001b[0minput\u001b[0m\u001b[0;34m(\u001b[0m\u001b[0;34m\"What is the number?\"\u001b[0m\u001b[0;34m)\u001b[0m\u001b[0;34m)\u001b[0m\u001b[0;34m)\u001b[0m\u001b[0;34m\u001b[0m\u001b[0;34m\u001b[0m\u001b[0m\n\u001b[0;32m---> 19\u001b[0;31m \u001b[0mprint\u001b[0m \u001b[0;34m(\u001b[0m\u001b[0mnum\u001b[0m\u001b[0;34m(\u001b[0m\u001b[0;34m)\u001b[0m\u001b[0;34m)\u001b[0m\u001b[0;34m\u001b[0m\u001b[0;34m\u001b[0m\u001b[0m\n\u001b[0m",
            "\u001b[0;31mTypeError\u001b[0m: 'list' object is not callable"
          ]
        }
      ]
    },
    {
      "cell_type": "code",
      "source": [
        "#PRACTICAL 2 \n",
        "\n",
        "#1) Accept 20 numbers and find the average of the even and odd numbers entered \n",
        "\n",
        "#2) Accept 10 numbers and find out the cube of the numbers entered \n",
        "\n",
        "#3) Accept number of elements from user and display series with the following logic :     x/2 + x/4 + x//6 ........ y terms \n",
        "#ex; 3/2 + 3/4 + 4/6 + 3/8 + 3/10 \n",
        "\n",
        "#4) Accept a number from user and print multiplication table of this number upto 10 times \n",
        "\n",
        "#5) Accept a number and find the factorial of this number \n",
        "\n",
        "#Question number 2; appending a list with all the values, printing the cube of each value\n",
        "\n",
        "num = []\n",
        "for x in range(10):\n",
        "  num.append(input(\"What is the number?\"))\n",
        "# print(num)\n",
        "# print(len(num))\n",
        "# print(num[0])\n",
        "for val in range(len(num)):\n",
        "    number = int(num[val])\n",
        "    print(number**3)\n"
      ],
      "metadata": {
        "id": "ooAmElJ5OyBt"
      },
      "execution_count": null,
      "outputs": []
    },
    {
      "cell_type": "code",
      "source": [
        "#Question number 3:\n",
        "\n",
        "val1 = (input(\"What is the numerator?\"))\n",
        "val2 = int(input(\"How many terms are needed\"))\n",
        "\n",
        "ap = []\n",
        "total = 0\n",
        "for x in range(1, val2 + 1):\n",
        "    value = (val1+\"/\"+str(2*x))\n",
        "    ap.append(value)\n",
        "    total += (float(val1)/(2*x))\n",
        "print(ap)\n",
        "print(total)"
      ],
      "metadata": {
        "id": "LyNXR2edQuWE"
      },
      "execution_count": null,
      "outputs": []
    },
    {
      "cell_type": "code",
      "source": [
        "#4) Accept a number from user and print multiplication table of this number upto 10 times \n",
        "num = int(input(\"What is the number? \"))\n",
        "for val in range(1,11):\n",
        "    print(str(num)+\" multiplied by \"+ str(val) + \" is \" + str(num*val))"
      ],
      "metadata": {
        "id": "pF3k04GgRio1"
      },
      "execution_count": null,
      "outputs": []
    },
    {
      "cell_type": "code",
      "source": [
        "#Question 5: Factorial\n",
        "num = int(input(\"What is the number?\"))\n",
        "val = 1\n",
        "for x in range(1, num + 1):\n",
        "    val*= x\n",
        "print(\"The factorial of \"+str(num)+\" is \"+str(val))\n",
        "\n",
        "#aliter:\n",
        "def factorial(x):\n",
        "    val = 1\n",
        "    for y in range(1, x+1):\n",
        "        val*= y\n",
        "    return val\n",
        "print(\"The factorial of \"+str(x)+\" is \"+str(val))\n",
        "  "
      ],
      "metadata": {
        "id": "p1BZu89qThvs"
      },
      "execution_count": null,
      "outputs": []
    },
    {
      "cell_type": "code",
      "source": [
        "def factorial(x):\n",
        "    val = 1\n",
        "    for y in range(1, x+1):\n",
        "        val*= y\n",
        "    return val\n",
        "def palindrome():\n",
        "    x = int(input(\"What is the number?\"))\n",
        "    a = 0\n",
        "    b = x\n",
        "    while x != 0:\n",
        "        digit = x%10\n",
        "        x = x//10\n",
        "        a = a*10 + digit\n",
        "    print(b)\n",
        "    print(a)\n",
        "    if a == b:\n",
        "        print(\"It is a palindrome\")\n",
        "    elif a!=b:\n",
        "        print(\"It is not a palindrome\")\n",
        "\n",
        "def armstrong():\n",
        "    x = int(input(\"What is the number?\"))\n",
        "    a = 0\n",
        "    b = x\n",
        "    while x!=0:\n",
        "        digit = x%10\n",
        "        x = x//10\n",
        "        a = a+digit**3\n",
        "    print(a)\n",
        "    print(b)\n",
        "    if a == b:\n",
        "        print(\"It is an armstrong number\")\n",
        "    elif a!=b:\n",
        "        print(\"It is not an armstrong number\")\n",
        "\n",
        "def reverse():\n",
        "    x = int(input(\"What is the number?\"))\n",
        "    a = 0\n",
        "    b = x\n",
        "    while x != 0:\n",
        "        digit = x%10\n",
        "        x = x//10\n",
        "        a = a*10 + digit\n",
        "    print(b)\n",
        "    print(a)\n",
        "\n",
        "def number_of_digits():\n",
        "    x = int(input(\"What is the number?\"))\n",
        "    total = 0\n",
        "    while x!=0:\n",
        "        x = x//10\n",
        "        total+=1\n",
        "    print(total)\n",
        "    \n",
        "def sum_of_digits():\n",
        "    x = int(input(\"What is the number?\"))\n",
        "    total = 0\n",
        "    while x!=0:\n",
        "        digit = x%10\n",
        "        x = x//10\n",
        "        total += digit\n",
        "    print(total)\n"
      ],
      "metadata": {
        "id": "KvwpkQt1kV2-"
      },
      "execution_count": null,
      "outputs": []
    },
    {
      "cell_type": "code",
      "source": [
        "def factorial(x):\n",
        "    val = 1\n",
        "    for y in range(1, x+1):\n",
        "        val*= y\n",
        "    return val\n",
        "\n",
        "def gp(x,n):\n",
        "    total = 1\n",
        "    for i in range(1, n+1):\n",
        "        a = x**i\n",
        "        b = factorial(i)\n",
        "        total += a/b\n",
        "    return total\n"
      ],
      "metadata": {
        "id": "0ufZjOLatl2H"
      },
      "execution_count": null,
      "outputs": []
    }
  ]
}